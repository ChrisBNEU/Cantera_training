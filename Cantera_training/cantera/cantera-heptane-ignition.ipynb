{
 "cells": [
  {
   "cell_type": "markdown",
   "metadata": {},
   "source": [
    "# Installing Cantera\n",
    "For this notebook you will need [Cantera](http://www.cantera.org/), an open source suite of object-oriented software tools for problems involving chemical kinetics, thermodynamics, and/or transport processes.\n",
    "Fortunately there are now Anaconda packages (in the `cantera` channel), so to install you can simply type \n",
    "```\n",
    "conda install -c cantera cantera\n",
    "```\n",
    "at your terminal (if you can remember back to when you installed Anaconda!).\n",
    "\n",
    "If you are on Windows *and* you get an error like `ImportError: DLL load failed: The specified module could not be found.` then you probably also need to install the Visual C++ Redistributable which you can get [from Microsoft here](https://www.microsoft.com/en-us/download/details.aspx?id=48145).  If you don't have this problem, let me know and I can updated these instructions!\n",
    "\n",
    "There are other, more difficult, ways to install it in [the instructions](http://www.cantera.org/docs/sphinx/html/install.html) if you can't get the Anaconda packages to work. It is also already on the COE computer lab 274 Snell (though there you will have to `pip install jupyter` to get this notebook working)."
   ]
  },
  {
   "cell_type": "code",
   "execution_count": 1,
   "metadata": {},
   "outputs": [],
   "source": [
    "# First, import cantera, with the nickname `ct` to save us some typing later.\n",
    "import cantera as ct\n",
    "\n",
    "# Then the usual suspects:\n",
    "import numpy as np\n",
    "%matplotlib inline\n",
    "from matplotlib import pyplot as plt"
   ]
  },
  {
   "cell_type": "markdown",
   "metadata": {},
   "source": [
    "# Heptane combustion"
   ]
  },
  {
   "cell_type": "markdown",
   "metadata": {},
   "source": [
    "Download the reduced n-heptane model from LLNL https://combustion.llnl.gov/archived-mechanisms/alkanes/heptane-reduced-mechanism. Save the files alongside this python notebook. These files are in \"CHEMKIN\" format. First, we have to convert them into a format that is usable by Cantera. \n",
    "This may take a while and issue some warnings, but then end by saying `Validating mechanism...PASSED`:"
   ]
  },
  {
   "cell_type": "code",
   "execution_count": 2,
   "metadata": {},
   "outputs": [
    {
     "name": "stderr",
     "output_type": "stream",
     "text": [
      "INFO:root:Skipping unexpected species \"ar\" while reading thermodynamics entry.\n",
      "INFO:root:Skipping unexpected species \"c2h5oh\" while reading thermodynamics entry.\n",
      "INFO:root:Skipping unexpected species \"sc2h4oh\" while reading thermodynamics entry.\n",
      "INFO:root:Skipping unexpected species \"ic4h7\" while reading thermodynamics entry.\n",
      "INFO:root:Skipping unexpected species \"ic4h8\" while reading thermodynamics entry.\n",
      "INFO:root:Skipping unexpected species \"c4h8-2\" while reading thermodynamics entry.\n",
      "INFO:root:Skipping unexpected species \"tc4h9\" while reading thermodynamics entry.\n",
      "INFO:root:Skipping unexpected species \"ic4h9\" while reading thermodynamics entry.\n",
      "INFO:root:Skipping unexpected species \"ic4h10\" while reading thermodynamics entry.\n",
      "INFO:root:Skipping unexpected species \"c4h10\" while reading thermodynamics entry.\n",
      "INFO:root:Skipping unexpected species \"c5h10-2\" while reading thermodynamics entry.\n",
      "INFO:root:Skipping unexpected species \"ic5h12\" while reading thermodynamics entry.\n",
      "INFO:root:Skipping unexpected species \"ac5h11\" while reading thermodynamics entry.\n",
      "INFO:root:Skipping unexpected species \"bc5h11\" while reading thermodynamics entry.\n",
      "INFO:root:Skipping unexpected species \"cc5h11\" while reading thermodynamics entry.\n",
      "INFO:root:Skipping unexpected species \"dc5h11\" while reading thermodynamics entry.\n",
      "INFO:root:Skipping unexpected species \"ac5h10\" while reading thermodynamics entry.\n",
      "INFO:root:Skipping unexpected species \"bc5h10\" while reading thermodynamics entry.\n",
      "INFO:root:Skipping unexpected species \"cc5h10\" while reading thermodynamics entry.\n",
      "INFO:root:Skipping unexpected species \"ic5h9\" while reading thermodynamics entry.\n",
      "INFO:root:Skipping unexpected species \"nc5h12\" while reading thermodynamics entry.\n",
      "INFO:root:Skipping unexpected species \"c5h11-3\" while reading thermodynamics entry.\n",
      "INFO:root:Skipping unexpected species \"neoc5h12\" while reading thermodynamics entry.\n",
      "INFO:root:Skipping unexpected species \"neoc5h11\" while reading thermodynamics entry.\n",
      "INFO:root:Skipping unexpected species \"c2h5o2h\" while reading thermodynamics entry.\n",
      "INFO:root:Skipping unexpected species \"ch3co2\" while reading thermodynamics entry.\n",
      "INFO:root:Skipping unexpected species \"c2h4o1,2\" while reading thermodynamics entry.\n",
      "INFO:root:Skipping unexpected species \"ch2o2h\" while reading thermodynamics entry.\n",
      "INFO:root:Skipping unexpected species \"ch3co3\" while reading thermodynamics entry.\n",
      "INFO:root:Skipping unexpected species \"ch3co3h\" while reading thermodynamics entry.\n",
      "INFO:root:Skipping unexpected species \"c3h6ooh1-3\" while reading thermodynamics entry.\n",
      "INFO:root:Skipping unexpected species \"c3h6ooh1-2o2\" while reading thermodynamics entry.\n",
      "INFO:root:Skipping unexpected species \"c3h6ooh1-3o2\" while reading thermodynamics entry.\n",
      "INFO:root:Skipping unexpected species \"c3h6ooh2-1o2\" while reading thermodynamics entry.\n",
      "INFO:root:Skipping unexpected species \"nc3h7o2h\" while reading thermodynamics entry.\n",
      "INFO:root:Skipping unexpected species \"ic3h7o2h\" while reading thermodynamics entry.\n",
      "INFO:root:Skipping unexpected species \"c3h6o1-3\" while reading thermodynamics entry.\n",
      "INFO:root:Skipping unexpected species \"ic4h8o\" while reading thermodynamics entry.\n",
      "INFO:root:Skipping unexpected species \"ic4h8oh\" while reading thermodynamics entry.\n",
      "INFO:root:Skipping unexpected species \"io2c4h8oh\" while reading thermodynamics entry.\n",
      "INFO:root:Skipping unexpected species \"ic4h7o\" while reading thermodynamics entry.\n",
      "INFO:root:Skipping unexpected species \"c4h8oh-1\" while reading thermodynamics entry.\n",
      "INFO:root:Skipping unexpected species \"c4h8oh-2\" while reading thermodynamics entry.\n",
      "INFO:root:Skipping unexpected species \"o2c4h8oh-1\" while reading thermodynamics entry.\n",
      "INFO:root:Skipping unexpected species \"o2c4h8oh-2\" while reading thermodynamics entry.\n",
      "INFO:root:Skipping unexpected species \"c4h8ooh1-2o2\" while reading thermodynamics entry.\n",
      "INFO:root:Skipping unexpected species \"c4h8ooh1-4o2\" while reading thermodynamics entry.\n",
      "INFO:root:Skipping unexpected species \"c4h8ooh2-1o2\" while reading thermodynamics entry.\n",
      "INFO:root:Skipping unexpected species \"c4h8ooh2-3o2\" while reading thermodynamics entry.\n",
      "INFO:root:Skipping unexpected species \"c4h8ooh2-4o2\" while reading thermodynamics entry.\n",
      "INFO:root:Skipping unexpected species \"tc4h8ooh-io2\" while reading thermodynamics entry.\n",
      "INFO:root:Skipping unexpected species \"ic4h8ooh-io2\" while reading thermodynamics entry.\n",
      "INFO:root:Skipping unexpected species \"ic4h8ooh-to2\" while reading thermodynamics entry.\n",
      "INFO:root:Skipping unexpected species \"c4h8ooh1-4\" while reading thermodynamics entry.\n",
      "INFO:root:Skipping unexpected species \"c4h8ooh2-1\" while reading thermodynamics entry.\n",
      "INFO:root:Skipping unexpected species \"c4h8ooh2-3\" while reading thermodynamics entry.\n",
      "INFO:root:Skipping unexpected species \"c4h8ooh2-4\" while reading thermodynamics entry.\n",
      "INFO:root:Skipping unexpected species \"ic4h8ooh-i\" while reading thermodynamics entry.\n",
      "INFO:root:Skipping unexpected species \"ic4h8ooh-t\" while reading thermodynamics entry.\n",
      "INFO:root:Skipping unexpected species \"tc4h8ooh-i\" while reading thermodynamics entry.\n",
      "INFO:root:Skipping unexpected species \"c4h8o1-2\" while reading thermodynamics entry.\n",
      "INFO:root:Skipping unexpected species \"c4h8o1-4\" while reading thermodynamics entry.\n",
      "INFO:root:Skipping unexpected species \"c4h8o2-3\" while reading thermodynamics entry.\n",
      "INFO:root:Skipping unexpected species \"cc4h8o\" while reading thermodynamics entry.\n",
      "INFO:root:Skipping unexpected species \"pc4h9o\" while reading thermodynamics entry.\n",
      "INFO:root:Skipping unexpected species \"sc4h9o\" while reading thermodynamics entry.\n",
      "INFO:root:Skipping unexpected species \"ic4h9o\" while reading thermodynamics entry.\n",
      "INFO:root:Skipping unexpected species \"tc4h9o\" while reading thermodynamics entry.\n",
      "INFO:root:Skipping unexpected species \"pc4h9o2h\" while reading thermodynamics entry.\n",
      "INFO:root:Skipping unexpected species \"sc4h9o2h\" while reading thermodynamics entry.\n",
      "INFO:root:Skipping unexpected species \"ic4h9o2h\" while reading thermodynamics entry.\n",
      "INFO:root:Skipping unexpected species \"tc4h9o2h\" while reading thermodynamics entry.\n",
      "INFO:root:Skipping unexpected species \"tc4h9o2\" while reading thermodynamics entry.\n",
      "INFO:root:Skipping unexpected species \"ic4h9o2\" while reading thermodynamics entry.\n",
      "INFO:root:Skipping unexpected species \"sc4h9o2\" while reading thermodynamics entry.\n",
      "INFO:root:Skipping unexpected species \"ch3coch2o2\" while reading thermodynamics entry.\n",
      "INFO:root:Skipping unexpected species \"ch3coch2o2h\" while reading thermodynamics entry.\n",
      "INFO:root:Skipping unexpected species \"ch3coch2o\" while reading thermodynamics entry.\n",
      "INFO:root:Skipping unexpected species \"neoc5ketox\" while reading thermodynamics entry.\n",
      "INFO:root:Skipping unexpected species \"neoc5kejol\" while reading thermodynamics entry.\n",
      "INFO:root:Skipping unexpected species \"ac5h11o2\" while reading thermodynamics entry.\n",
      "INFO:root:Skipping unexpected species \"bc5h11o2\" while reading thermodynamics entry.\n",
      "INFO:root:Skipping unexpected species \"cc5h11o2\" while reading thermodynamics entry.\n",
      "INFO:root:Skipping unexpected species \"dc5h11o2\" while reading thermodynamics entry.\n",
      "INFO:root:Skipping unexpected species \"ac5h11o2h\" while reading thermodynamics entry.\n",
      "INFO:root:Skipping unexpected species \"bc5h11o2h\" while reading thermodynamics entry.\n",
      "INFO:root:Skipping unexpected species \"cc5h11o2h\" while reading thermodynamics entry.\n",
      "INFO:root:Skipping unexpected species \"dc5h11o2h\" while reading thermodynamics entry.\n",
      "INFO:root:Skipping unexpected species \"ac5h11o\" while reading thermodynamics entry.\n",
      "INFO:root:Skipping unexpected species \"bc5h11o\" while reading thermodynamics entry.\n",
      "INFO:root:Skipping unexpected species \"cc5h11o\" while reading thermodynamics entry.\n",
      "INFO:root:Skipping unexpected species \"dc5h11o\" while reading thermodynamics entry.\n",
      "INFO:root:Skipping unexpected species \"ac5h10ooh-a\" while reading thermodynamics entry.\n",
      "INFO:root:Skipping unexpected species \"ac5h10ooh-b\" while reading thermodynamics entry.\n",
      "INFO:root:Skipping unexpected species \"ac5h10ooh-c\" while reading thermodynamics entry.\n",
      "INFO:root:Skipping unexpected species \"ac5h10ooh-d\" while reading thermodynamics entry.\n",
      "INFO:root:Skipping unexpected species \"bc5h10ooh-a\" while reading thermodynamics entry.\n"
     ]
    },
    {
     "name": "stderr",
     "output_type": "stream",
     "text": [
      "INFO:root:Skipping unexpected species \"bc5h10ooh-c\" while reading thermodynamics entry.\n",
      "INFO:root:Skipping unexpected species \"bc5h10ooh-d\" while reading thermodynamics entry.\n",
      "INFO:root:Skipping unexpected species \"cc5h10ooh-a\" while reading thermodynamics entry.\n",
      "INFO:root:Skipping unexpected species \"cc5h10ooh-b\" while reading thermodynamics entry.\n",
      "INFO:root:Skipping unexpected species \"cc5h10ooh-d\" while reading thermodynamics entry.\n",
      "INFO:root:Skipping unexpected species \"dc5h10ooh-a\" while reading thermodynamics entry.\n",
      "INFO:root:Skipping unexpected species \"dc5h10ooh-b\" while reading thermodynamics entry.\n",
      "INFO:root:Skipping unexpected species \"dc5h10ooh-c\" while reading thermodynamics entry.\n",
      "INFO:root:Skipping unexpected species \"ac5h10ooh-ao2\" while reading thermodynamics entry.\n",
      "INFO:root:Skipping unexpected species \"ac5h10ooh-bo2\" while reading thermodynamics entry.\n",
      "INFO:root:Skipping unexpected species \"ac5h10ooh-co2\" while reading thermodynamics entry.\n",
      "INFO:root:Skipping unexpected species \"ac5h10ooh-do2\" while reading thermodynamics entry.\n",
      "INFO:root:Skipping unexpected species \"bc5h10ooh-ao2\" while reading thermodynamics entry.\n",
      "INFO:root:Skipping unexpected species \"bc5h10ooh-co2\" while reading thermodynamics entry.\n",
      "INFO:root:Skipping unexpected species \"bc5h10ooh-do2\" while reading thermodynamics entry.\n",
      "INFO:root:Skipping unexpected species \"cc5h10ooh-ao2\" while reading thermodynamics entry.\n",
      "INFO:root:Skipping unexpected species \"cc5h10ooh-bo2\" while reading thermodynamics entry.\n",
      "INFO:root:Skipping unexpected species \"cc5h10ooh-do2\" while reading thermodynamics entry.\n",
      "INFO:root:Skipping unexpected species \"dc5h10ooh-ao2\" while reading thermodynamics entry.\n",
      "INFO:root:Skipping unexpected species \"dc5h10ooh-bo2\" while reading thermodynamics entry.\n",
      "INFO:root:Skipping unexpected species \"dc5h10ooh-co2\" while reading thermodynamics entry.\n",
      "INFO:root:Skipping unexpected species \"a-ac5h10o\" while reading thermodynamics entry.\n",
      "INFO:root:Skipping unexpected species \"a-bc5h10o\" while reading thermodynamics entry.\n",
      "INFO:root:Skipping unexpected species \"a-cc5h10o\" while reading thermodynamics entry.\n",
      "INFO:root:Skipping unexpected species \"a-dc5h10o\" while reading thermodynamics entry.\n",
      "INFO:root:Skipping unexpected species \"b-cc5h10o\" while reading thermodynamics entry.\n",
      "INFO:root:Skipping unexpected species \"b-dc5h10o\" while reading thermodynamics entry.\n",
      "INFO:root:Skipping unexpected species \"c-dc5h10o\" while reading thermodynamics entry.\n",
      "INFO:root:Skipping unexpected species \"c5h11o2-1\" while reading thermodynamics entry.\n",
      "INFO:root:Skipping unexpected species \"c5h11o2-2\" while reading thermodynamics entry.\n",
      "INFO:root:Skipping unexpected species \"c5h11o2-3\" while reading thermodynamics entry.\n",
      "INFO:root:Skipping unexpected species \"c5h11o2h-1\" while reading thermodynamics entry.\n",
      "INFO:root:Skipping unexpected species \"c5h11o2h-2\" while reading thermodynamics entry.\n",
      "INFO:root:Skipping unexpected species \"c5h11o2h-3\" while reading thermodynamics entry.\n",
      "INFO:root:Skipping unexpected species \"c5h11o-1\" while reading thermodynamics entry.\n",
      "INFO:root:Skipping unexpected species \"c5h11o-2\" while reading thermodynamics entry.\n",
      "INFO:root:Skipping unexpected species \"c5h11o-3\" while reading thermodynamics entry.\n",
      "INFO:root:Skipping unexpected species \"c5h10ooh1-2\" while reading thermodynamics entry.\n",
      "INFO:root:Skipping unexpected species \"c5h10ooh1-3\" while reading thermodynamics entry.\n",
      "INFO:root:Skipping unexpected species \"c5h10ooh1-4\" while reading thermodynamics entry.\n",
      "INFO:root:Skipping unexpected species \"c5h10ooh1-5\" while reading thermodynamics entry.\n",
      "INFO:root:Skipping unexpected species \"c5h10ooh2-1\" while reading thermodynamics entry.\n",
      "INFO:root:Skipping unexpected species \"c5h10ooh2-3\" while reading thermodynamics entry.\n",
      "INFO:root:Skipping unexpected species \"c5h10ooh2-4\" while reading thermodynamics entry.\n",
      "INFO:root:Skipping unexpected species \"c5h10ooh2-5\" while reading thermodynamics entry.\n",
      "INFO:root:Skipping unexpected species \"c5h10ooh3-1\" while reading thermodynamics entry.\n",
      "INFO:root:Skipping unexpected species \"c5h10ooh3-2\" while reading thermodynamics entry.\n",
      "INFO:root:Skipping unexpected species \"c5h10ooh1-2o2\" while reading thermodynamics entry.\n",
      "INFO:root:Skipping unexpected species \"c5h10ooh1-3o2\" while reading thermodynamics entry.\n",
      "INFO:root:Skipping unexpected species \"c5h10ooh1-4o2\" while reading thermodynamics entry.\n",
      "INFO:root:Skipping unexpected species \"c5h10ooh1-5o2\" while reading thermodynamics entry.\n",
      "INFO:root:Skipping unexpected species \"c5h10ooh2-1o2\" while reading thermodynamics entry.\n",
      "INFO:root:Skipping unexpected species \"c5h10ooh2-3o2\" while reading thermodynamics entry.\n",
      "INFO:root:Skipping unexpected species \"c5h10ooh2-4o2\" while reading thermodynamics entry.\n",
      "INFO:root:Skipping unexpected species \"c5h10ooh2-5o2\" while reading thermodynamics entry.\n",
      "INFO:root:Skipping unexpected species \"c5h10ooh3-1o2\" while reading thermodynamics entry.\n",
      "INFO:root:Skipping unexpected species \"c5h10ooh3-2o2\" while reading thermodynamics entry.\n",
      "INFO:root:Skipping unexpected species \"c5h10o1-2\" while reading thermodynamics entry.\n",
      "INFO:root:Skipping unexpected species \"c5h10o1-3\" while reading thermodynamics entry.\n",
      "INFO:root:Skipping unexpected species \"c5h10o1-4\" while reading thermodynamics entry.\n",
      "INFO:root:Skipping unexpected species \"c5h10o1-5\" while reading thermodynamics entry.\n",
      "INFO:root:Skipping unexpected species \"c5h10o2-3\" while reading thermodynamics entry.\n",
      "INFO:root:Skipping unexpected species \"c5h10o2-4\" while reading thermodynamics entry.\n",
      "INFO:root:Skipping unexpected species \"neoc5h11o2\" while reading thermodynamics entry.\n",
      "INFO:root:Skipping unexpected species \"neoc5h11o2h\" while reading thermodynamics entry.\n",
      "INFO:root:Skipping unexpected species \"neoc5h11o\" while reading thermodynamics entry.\n",
      "INFO:root:Skipping unexpected species \"neoc5h10ooh\" while reading thermodynamics entry.\n",
      "INFO:root:Skipping unexpected species \"neoc5h10ooh-o2\" while reading thermodynamics entry.\n",
      "INFO:root:Skipping unexpected species \"neo-c5h10o\" while reading thermodynamics entry.\n",
      "INFO:root:Skipping unexpected species \"ho2cho\" while reading thermodynamics entry.\n",
      "INFO:root:Skipping unexpected species \"o2cho\" while reading thermodynamics entry.\n",
      "INFO:root:Skipping unexpected species \"ocho\" while reading thermodynamics entry.\n",
      "INFO:root:Skipping unexpected species \"c3ket12\" while reading thermodynamics entry.\n",
      "INFO:root:Skipping unexpected species \"c3ket13\" while reading thermodynamics entry.\n",
      "INFO:root:Skipping unexpected species \"c3ket21\" while reading thermodynamics entry.\n",
      "INFO:root:Skipping unexpected species \"nc4ket12\" while reading thermodynamics entry.\n",
      "INFO:root:Skipping unexpected species \"nc4ket14\" while reading thermodynamics entry.\n",
      "INFO:root:Skipping unexpected species \"nc4ket21\" while reading thermodynamics entry.\n",
      "INFO:root:Skipping unexpected species \"nc4ket23\" while reading thermodynamics entry.\n",
      "INFO:root:Skipping unexpected species \"nc4ket24\" while reading thermodynamics entry.\n",
      "INFO:root:Skipping unexpected species \"ic4ketii\" while reading thermodynamics entry.\n",
      "INFO:root:Skipping unexpected species \"ic4ketit\" while reading thermodynamics entry.\n",
      "INFO:root:Skipping unexpected species \"neoc5ket\" while reading thermodynamics entry.\n",
      "INFO:root:Skipping unexpected species \"nc5ket12\" while reading thermodynamics entry.\n",
      "INFO:root:Skipping unexpected species \"nc5ket13\" while reading thermodynamics entry.\n",
      "INFO:root:Skipping unexpected species \"nc5ket14\" while reading thermodynamics entry.\n",
      "INFO:root:Skipping unexpected species \"nc5ket15\" while reading thermodynamics entry.\n",
      "INFO:root:Skipping unexpected species \"nc5ket21\" while reading thermodynamics entry.\n",
      "INFO:root:Skipping unexpected species \"nc5ket23\" while reading thermodynamics entry.\n",
      "INFO:root:Skipping unexpected species \"nc5ket24\" while reading thermodynamics entry.\n",
      "INFO:root:Skipping unexpected species \"nc5ket25\" while reading thermodynamics entry.\n",
      "INFO:root:Skipping unexpected species \"nc5ket31\" while reading thermodynamics entry.\n",
      "INFO:root:Skipping unexpected species \"nc5ket32\" while reading thermodynamics entry.\n",
      "INFO:root:Skipping unexpected species \"ic5ketaa\" while reading thermodynamics entry.\n",
      "INFO:root:Skipping unexpected species \"ic5ketab\" while reading thermodynamics entry.\n"
     ]
    },
    {
     "name": "stderr",
     "output_type": "stream",
     "text": [
      "INFO:root:Skipping unexpected species \"ic5ketac\" while reading thermodynamics entry.\n",
      "INFO:root:Skipping unexpected species \"ic5ketad\" while reading thermodynamics entry.\n",
      "INFO:root:Skipping unexpected species \"ic5ketca\" while reading thermodynamics entry.\n",
      "INFO:root:Skipping unexpected species \"ic5ketcb\" while reading thermodynamics entry.\n",
      "INFO:root:Skipping unexpected species \"ic5ketcd\" while reading thermodynamics entry.\n",
      "INFO:root:Skipping unexpected species \"ic5ketda\" while reading thermodynamics entry.\n",
      "INFO:root:Skipping unexpected species \"ic5ketdb\" while reading thermodynamics entry.\n",
      "INFO:root:Skipping unexpected species \"ic5ketdc\" while reading thermodynamics entry.\n",
      "INFO:root:Skipping unexpected species \"ic4h7-i1\" while reading thermodynamics entry.\n",
      "INFO:root:Skipping unexpected species \"c3h6oh\" while reading thermodynamics entry.\n",
      "INFO:root:Skipping unexpected species \"hoc3h6o2\" while reading thermodynamics entry.\n",
      "INFO:root:Skipping unexpected species \"o2c2h4o2h\" while reading thermodynamics entry.\n",
      "INFO:root:Skipping unexpected species \"ch2o2hcho\" while reading thermodynamics entry.\n",
      "INFO:root:Skipping unexpected species \"ic4h7ooh\" while reading thermodynamics entry.\n",
      "INFO:root:Skipping unexpected species \"ic3h5cho\" while reading thermodynamics entry.\n",
      "INFO:root:Skipping unexpected species \"tc3h6ocho\" while reading thermodynamics entry.\n",
      "INFO:root:Skipping unexpected species \"tc3h6cho\" while reading thermodynamics entry.\n",
      "INFO:root:Skipping unexpected species \"ic3h7cho\" while reading thermodynamics entry.\n",
      "INFO:root:Skipping unexpected species \"ic4h7oh\" while reading thermodynamics entry.\n",
      "INFO:root:Skipping unexpected species \"ic3h6co\" while reading thermodynamics entry.\n",
      "INFO:root:Skipping unexpected species \"ic4h6oh\" while reading thermodynamics entry.\n",
      "INFO:root:Skipping unexpected species \"ic3h5co\" while reading thermodynamics entry.\n",
      "INFO:root:Skipping unexpected species \"ic3h7co\" while reading thermodynamics entry.\n",
      "INFO:root:Skipping unexpected species \"tc3h6o2cho\" while reading thermodynamics entry.\n",
      "INFO:root:Skipping unexpected species \"tc3h6o2hco\" while reading thermodynamics entry.\n",
      "INFO:root:Skipping unexpected species \"ic3h5o2hcho\" while reading thermodynamics entry.\n",
      "INFO:root:Skipping unexpected species \"tc3h6ohcho\" while reading thermodynamics entry.\n",
      "INFO:root:Skipping unexpected species \"tc3h6oh\" while reading thermodynamics entry.\n",
      "INFO:root:Skipping unexpected species \"ic3h5oh\" while reading thermodynamics entry.\n",
      "INFO:root:Skipping unexpected species \"tc4h8cho\" while reading thermodynamics entry.\n",
      "INFO:root:Skipping unexpected species \"o2c4h8cho\" while reading thermodynamics entry.\n",
      "INFO:root:Skipping unexpected species \"o2hc4h8co\" while reading thermodynamics entry.\n",
      "INFO:root:Skipping unexpected species \"o2hc4h7cho\" while reading thermodynamics entry.\n",
      "INFO:root:Skipping unexpected species \"c3h5oh\" while reading thermodynamics entry.\n",
      "INFO:root:Skipping unexpected species \"ch2cch2oh\" while reading thermodynamics entry.\n",
      "INFO:root:Skipping unexpected species \"c2h5coch3\" while reading thermodynamics entry.\n",
      "INFO:root:Skipping unexpected species \"ch2choohcoch3\" while reading thermodynamics entry.\n",
      "INFO:root:Skipping unexpected species \"ch3choohcoch3\" while reading thermodynamics entry.\n",
      "INFO:root:Skipping unexpected species \"ch3choococh3\" while reading thermodynamics entry.\n",
      "INFO:root:Skipping unexpected species \"ch3chcoch3\" while reading thermodynamics entry.\n",
      "INFO:root:Skipping unexpected species \"c2h3coch3\" while reading thermodynamics entry.\n",
      "INFO:root:Skipping unexpected species \"ch2ch2cho\" while reading thermodynamics entry.\n",
      "INFO:root:Skipping unexpected species \"c3h6cho-3\" while reading thermodynamics entry.\n",
      "INFO:root:Skipping unexpected species \"c2h5chco\" while reading thermodynamics entry.\n",
      "INFO:root:Skipping unexpected species \"ic3h5coch3\" while reading thermodynamics entry.\n",
      "INFO:root:Skipping unexpected species \"ic3h5coch2\" while reading thermodynamics entry.\n",
      "INFO:root:Skipping unexpected species \"ac3h4coch3\" while reading thermodynamics entry.\n",
      "INFO:root:Skipping unexpected species \"sc3h5coch2\" while reading thermodynamics entry.\n",
      "INFO:root:Skipping unexpected species \"ch3chocho\" while reading thermodynamics entry.\n",
      "INFO:root:Skipping unexpected species \"ch3chcho\" while reading thermodynamics entry.\n",
      "INFO:root:Skipping unexpected species \"sc3h5cho\" while reading thermodynamics entry.\n",
      "INFO:root:Skipping unexpected species \"sc3h5co\" while reading thermodynamics entry.\n",
      "INFO:root:Skipping unexpected species \"ic3h6cho\" while reading thermodynamics entry.\n",
      "INFO:root:Skipping unexpected species \"c3h6cho-1\" while reading thermodynamics entry.\n",
      "INFO:root:Skipping unexpected species \"c2h5coc2h5\" while reading thermodynamics entry.\n",
      "INFO:root:Skipping unexpected species \"c2h5coc2h4s\" while reading thermodynamics entry.\n",
      "INFO:root:Skipping unexpected species \"c2h5coc2h3\" while reading thermodynamics entry.\n",
      "INFO:root:Skipping unexpected species \"pc2h4coc2h3\" while reading thermodynamics entry.\n",
      "INFO:root:Skipping unexpected species \"sc2h4coc2h3\" while reading thermodynamics entry.\n",
      "INFO:root:Skipping unexpected species \"ic3h6chcho\" while reading thermodynamics entry.\n",
      "INFO:root:Skipping unexpected species \"ic3h6chco\" while reading thermodynamics entry.\n",
      "INFO:root:Skipping unexpected species \"ac3h5chcho\" while reading thermodynamics entry.\n",
      "INFO:root:Skipping unexpected species \"ic3h6chcoch3\" while reading thermodynamics entry.\n",
      "INFO:root:Skipping unexpected species \"ac3h5chcoch3\" while reading thermodynamics entry.\n",
      "INFO:root:Skipping unexpected species \"ic3h6chcoch2\" while reading thermodynamics entry.\n",
      "INFO:root:Skipping unexpected species \"nc3h7coch3\" while reading thermodynamics entry.\n",
      "INFO:root:Skipping unexpected species \"c3h6coch3-1\" while reading thermodynamics entry.\n",
      "INFO:root:Skipping unexpected species \"c3h6coch3-2\" while reading thermodynamics entry.\n",
      "INFO:root:Skipping unexpected species \"c3h6coch3-3\" while reading thermodynamics entry.\n",
      "INFO:root:Skipping unexpected species \"ic3h7coch3\" while reading thermodynamics entry.\n",
      "INFO:root:Skipping unexpected species \"ic3h7coch2\" while reading thermodynamics entry.\n",
      "INFO:root:Skipping unexpected species \"ic3h6coch3\" while reading thermodynamics entry.\n",
      "INFO:root:Skipping unexpected species \"tc3h6coch3\" while reading thermodynamics entry.\n",
      "INFO:root:Skipping unexpected species \"nc3h7coc2h5\" while reading thermodynamics entry.\n",
      "INFO:root:Skipping unexpected species \"c3h6coc2h5-1\" while reading thermodynamics entry.\n",
      "INFO:root:Skipping unexpected species \"c3h6coc2h5-2\" while reading thermodynamics entry.\n",
      "INFO:root:Skipping unexpected species \"c3h6coc2h5-3\" while reading thermodynamics entry.\n",
      "INFO:root:Skipping unexpected species \"nc3h7coc2h4p\" while reading thermodynamics entry.\n",
      "INFO:root:Skipping unexpected species \"nc3h7coc2h4s\" while reading thermodynamics entry.\n",
      "INFO:root:Skipping unexpected species \"ic3h7coc2h5\" while reading thermodynamics entry.\n",
      "INFO:root:Skipping unexpected species \"ic3h6coc2h5\" while reading thermodynamics entry.\n",
      "INFO:root:Skipping unexpected species \"tc3h6coc2h5\" while reading thermodynamics entry.\n",
      "INFO:root:Skipping unexpected species \"ic3h7coc2h4p\" while reading thermodynamics entry.\n",
      "INFO:root:Skipping unexpected species \"ic3h7coc2h4s\" while reading thermodynamics entry.\n",
      "INFO:root:Skipping unexpected species \"ic3h7coc2h3\" while reading thermodynamics entry.\n",
      "INFO:root:Skipping unexpected species \"ic3h6coc2h3\" while reading thermodynamics entry.\n",
      "INFO:root:Skipping unexpected species \"tc3h6coc2h3\" while reading thermodynamics entry.\n",
      "INFO:root:Skipping unexpected species \"ic3h5coc2h5\" while reading thermodynamics entry.\n",
      "INFO:root:Skipping unexpected species \"ac3h4coc2h5\" while reading thermodynamics entry.\n",
      "INFO:root:Skipping unexpected species \"ic3h5coc2h4p\" while reading thermodynamics entry.\n",
      "INFO:root:Skipping unexpected species \"ic3h5coc2h4s\" while reading thermodynamics entry.\n",
      "INFO:root:Skipping unexpected species \"ac3h5cho\" while reading thermodynamics entry.\n",
      "INFO:root:Skipping unexpected species \"ac3h5co\" while reading thermodynamics entry.\n",
      "INFO:root:Skipping unexpected species \"c2h3chcho\" while reading thermodynamics entry.\n",
      "INFO:root:Skipping unexpected species \"c4h8cho-1\" while reading thermodynamics entry.\n"
     ]
    },
    {
     "name": "stderr",
     "output_type": "stream",
     "text": [
      "INFO:root:Skipping unexpected species \"c4h8cho-2\" while reading thermodynamics entry.\n",
      "INFO:root:Skipping unexpected species \"c4h8cho-3\" while reading thermodynamics entry.\n",
      "INFO:root:Skipping unexpected species \"c4h8cho-4\" while reading thermodynamics entry.\n",
      "INFO:root:Skipping unexpected species \"neoc5h9q2\" while reading thermodynamics entry.\n",
      "INFO:root:Skipping unexpected species \"neoc5h9q2-n\" while reading thermodynamics entry.\n",
      "INFO:root:Skipping unexpected species \"ic4h6q2-ii\" while reading thermodynamics entry.\n",
      "INFO:root:Skipping unexpected species \"nc6h14\" while reading thermodynamics entry.\n",
      "INFO:root:Skipping unexpected species \"c6h13-2\" while reading thermodynamics entry.\n",
      "INFO:root:Skipping unexpected species \"c6h13-3\" while reading thermodynamics entry.\n",
      "INFO:root:Skipping unexpected species \"c6h12-2\" while reading thermodynamics entry.\n",
      "INFO:root:Skipping unexpected species \"c6h12-3\" while reading thermodynamics entry.\n",
      "INFO:root:Skipping unexpected species \"c6h12o1-2\" while reading thermodynamics entry.\n",
      "INFO:root:Skipping unexpected species \"c6h12o1-3\" while reading thermodynamics entry.\n",
      "INFO:root:Skipping unexpected species \"c6h12o1-4\" while reading thermodynamics entry.\n",
      "INFO:root:Skipping unexpected species \"c6h12o1-5\" while reading thermodynamics entry.\n",
      "INFO:root:Skipping unexpected species \"c6h12o2-3\" while reading thermodynamics entry.\n",
      "INFO:root:Skipping unexpected species \"c6h12o2-4\" while reading thermodynamics entry.\n",
      "INFO:root:Skipping unexpected species \"c6h12o2-5\" while reading thermodynamics entry.\n",
      "INFO:root:Skipping unexpected species \"c6h12o3-4\" while reading thermodynamics entry.\n",
      "INFO:root:Skipping unexpected species \"c6h13o2h-1\" while reading thermodynamics entry.\n",
      "INFO:root:Skipping unexpected species \"c6h13o2h-2\" while reading thermodynamics entry.\n",
      "INFO:root:Skipping unexpected species \"c6h13o2h-3\" while reading thermodynamics entry.\n",
      "INFO:root:Skipping unexpected species \"c6h13o2-1\" while reading thermodynamics entry.\n",
      "INFO:root:Skipping unexpected species \"c6h13o2-2\" while reading thermodynamics entry.\n",
      "INFO:root:Skipping unexpected species \"c6h13o2-3\" while reading thermodynamics entry.\n",
      "INFO:root:Skipping unexpected species \"c6h12ooh1-2\" while reading thermodynamics entry.\n",
      "INFO:root:Skipping unexpected species \"c6h12ooh1-3\" while reading thermodynamics entry.\n",
      "INFO:root:Skipping unexpected species \"c6h12ooh1-4\" while reading thermodynamics entry.\n",
      "INFO:root:Skipping unexpected species \"c6h12ooh1-5\" while reading thermodynamics entry.\n",
      "INFO:root:Skipping unexpected species \"c6h12ooh2-1\" while reading thermodynamics entry.\n",
      "INFO:root:Skipping unexpected species \"c6h12ooh2-3\" while reading thermodynamics entry.\n",
      "INFO:root:Skipping unexpected species \"c6h12ooh2-4\" while reading thermodynamics entry.\n",
      "INFO:root:Skipping unexpected species \"c6h12ooh2-5\" while reading thermodynamics entry.\n",
      "INFO:root:Skipping unexpected species \"c6h12ooh2-6\" while reading thermodynamics entry.\n",
      "INFO:root:Skipping unexpected species \"c6h12ooh3-1\" while reading thermodynamics entry.\n",
      "INFO:root:Skipping unexpected species \"c6h12ooh3-2\" while reading thermodynamics entry.\n",
      "INFO:root:Skipping unexpected species \"c6h12ooh3-4\" while reading thermodynamics entry.\n",
      "INFO:root:Skipping unexpected species \"c6h12ooh3-5\" while reading thermodynamics entry.\n",
      "INFO:root:Skipping unexpected species \"c6h12ooh3-6\" while reading thermodynamics entry.\n",
      "INFO:root:Skipping unexpected species \"c6h12ooh1-2o2\" while reading thermodynamics entry.\n",
      "INFO:root:Skipping unexpected species \"c6h12ooh1-3o2\" while reading thermodynamics entry.\n",
      "INFO:root:Skipping unexpected species \"c6h12ooh1-4o2\" while reading thermodynamics entry.\n",
      "INFO:root:Skipping unexpected species \"c6h12ooh1-5o2\" while reading thermodynamics entry.\n",
      "INFO:root:Skipping unexpected species \"c6h12ooh2-1o2\" while reading thermodynamics entry.\n",
      "INFO:root:Skipping unexpected species \"c6h12ooh2-3o2\" while reading thermodynamics entry.\n",
      "INFO:root:Skipping unexpected species \"c6h12ooh2-4o2\" while reading thermodynamics entry.\n",
      "INFO:root:Skipping unexpected species \"c6h12ooh2-5o2\" while reading thermodynamics entry.\n",
      "INFO:root:Skipping unexpected species \"c6h12ooh2-6o2\" while reading thermodynamics entry.\n",
      "INFO:root:Skipping unexpected species \"c6h12ooh3-1o2\" while reading thermodynamics entry.\n",
      "INFO:root:Skipping unexpected species \"c6h12ooh3-2o2\" while reading thermodynamics entry.\n",
      "INFO:root:Skipping unexpected species \"c6h12ooh3-4o2\" while reading thermodynamics entry.\n",
      "INFO:root:Skipping unexpected species \"c6h12ooh3-5o2\" while reading thermodynamics entry.\n",
      "INFO:root:Skipping unexpected species \"c6h12ooh3-6o2\" while reading thermodynamics entry.\n",
      "INFO:root:Skipping unexpected species \"nc6ket12\" while reading thermodynamics entry.\n",
      "INFO:root:Skipping unexpected species \"nc6ket13\" while reading thermodynamics entry.\n",
      "INFO:root:Skipping unexpected species \"nc6ket14\" while reading thermodynamics entry.\n",
      "INFO:root:Skipping unexpected species \"nc6ket15\" while reading thermodynamics entry.\n",
      "INFO:root:Skipping unexpected species \"nc6ket21\" while reading thermodynamics entry.\n",
      "INFO:root:Skipping unexpected species \"nc6ket23\" while reading thermodynamics entry.\n",
      "INFO:root:Skipping unexpected species \"nc6ket24\" while reading thermodynamics entry.\n",
      "INFO:root:Skipping unexpected species \"nc6ket25\" while reading thermodynamics entry.\n",
      "INFO:root:Skipping unexpected species \"nc6ket26\" while reading thermodynamics entry.\n",
      "INFO:root:Skipping unexpected species \"nc6ket31\" while reading thermodynamics entry.\n",
      "INFO:root:Skipping unexpected species \"nc6ket32\" while reading thermodynamics entry.\n",
      "INFO:root:Skipping unexpected species \"nc6ket34\" while reading thermodynamics entry.\n",
      "INFO:root:Skipping unexpected species \"nc6ket35\" while reading thermodynamics entry.\n",
      "INFO:root:Skipping unexpected species \"nc6ket36\" while reading thermodynamics entry.\n",
      "INFO:root:Skipping unexpected species \"c6h13o-1\" while reading thermodynamics entry.\n",
      "INFO:root:Skipping unexpected species \"c6h13o-2\" while reading thermodynamics entry.\n",
      "INFO:root:Skipping unexpected species \"c6h13o-3\" while reading thermodynamics entry.\n",
      "INFO:root:Skipping unexpected species \"c7h15o2h-4\" while reading thermodynamics entry.\n",
      "INFO:root:Skipping unexpected species \"c7h15o-4\" while reading thermodynamics entry.\n",
      "INFO:root:Skipping unexpected species \"c7h14ooh1-5\" while reading thermodynamics entry.\n",
      "INFO:root:Skipping unexpected species \"c7h14ooh2-1\" while reading thermodynamics entry.\n",
      "INFO:root:Skipping unexpected species \"c7h14ooh2-6\" while reading thermodynamics entry.\n",
      "INFO:root:Skipping unexpected species \"c7h14ooh3-7\" while reading thermodynamics entry.\n",
      "INFO:root:Skipping unexpected species \"c7h14ooh4-1\" while reading thermodynamics entry.\n",
      "INFO:root:Skipping unexpected species \"c7h14ooh1-2o2\" while reading thermodynamics entry.\n",
      "INFO:root:Skipping unexpected species \"c7h14ooh1-4o2\" while reading thermodynamics entry.\n",
      "INFO:root:Skipping unexpected species \"c7h14ooh1-5o2\" while reading thermodynamics entry.\n",
      "INFO:root:Skipping unexpected species \"c7h14ooh2-1o2\" while reading thermodynamics entry.\n",
      "INFO:root:Skipping unexpected species \"c7h14ooh2-6o2\" while reading thermodynamics entry.\n",
      "INFO:root:Skipping unexpected species \"c7h14ooh3-7o2\" while reading thermodynamics entry.\n",
      "INFO:root:Skipping unexpected species \"c7h14ooh4-1o2\" while reading thermodynamics entry.\n",
      "INFO:root:Skipping unexpected species \"c7h14o1-2\" while reading thermodynamics entry.\n",
      "INFO:root:Skipping unexpected species \"c7h14o1-5\" while reading thermodynamics entry.\n",
      "INFO:root:Skipping unexpected species \"c7h14o2-3\" while reading thermodynamics entry.\n",
      "INFO:root:Skipping unexpected species \"c7h14o2-6\" while reading thermodynamics entry.\n",
      "INFO:root:Skipping unexpected species \"c7h14o3-4\" while reading thermodynamics entry.\n",
      "INFO:root:Skipping unexpected species \"nc7ket12\" while reading thermodynamics entry.\n",
      "INFO:root:Skipping unexpected species \"nc7ket14\" while reading thermodynamics entry.\n",
      "INFO:root:Skipping unexpected species \"nc7ket15\" while reading thermodynamics entry.\n",
      "INFO:root:Skipping unexpected species \"nc7ket21\" while reading thermodynamics entry.\n",
      "INFO:root:Skipping unexpected species \"nc7ket26\" while reading thermodynamics entry.\n",
      "INFO:root:Skipping unexpected species \"nc7ket37\" while reading thermodynamics entry.\n"
     ]
    },
    {
     "name": "stderr",
     "output_type": "stream",
     "text": [
      "INFO:root:Skipping unexpected species \"nc7ket41\" while reading thermodynamics entry.\n",
      "INFO:root:Skipping unexpected species \"nc5h11cho\" while reading thermodynamics entry.\n",
      "INFO:root:Skipping unexpected species \"nc5h11co\" while reading thermodynamics entry.\n",
      "INFO:root:Skipping unexpected species \"c5h10cho-1\" while reading thermodynamics entry.\n",
      "INFO:root:Skipping unexpected species \"c5h10cho-2\" while reading thermodynamics entry.\n",
      "INFO:root:Skipping unexpected species \"c5h10cho-3\" while reading thermodynamics entry.\n",
      "INFO:root:Skipping unexpected species \"c5h10cho-4\" while reading thermodynamics entry.\n",
      "INFO:root:Skipping unexpected species \"c5h10cho-5\" while reading thermodynamics entry.\n",
      "INFO:root:Skipping unexpected species \"c4h7cho1-4\" while reading thermodynamics entry.\n",
      "INFO:root:Skipping unexpected species \"c4h7co1-4\" while reading thermodynamics entry.\n",
      "INFO:root:Skipping unexpected species \"c4h6cho1-43\" while reading thermodynamics entry.\n",
      "INFO:root:Skipping unexpected species \"c4h6cho1-44\" while reading thermodynamics entry.\n",
      "INFO:root:Skipping unexpected species \"nc4h9coch3\" while reading thermodynamics entry.\n",
      "INFO:root:Skipping unexpected species \"c4h8coch3-1\" while reading thermodynamics entry.\n",
      "INFO:root:Skipping unexpected species \"c4h8coch3-2\" while reading thermodynamics entry.\n",
      "INFO:root:Skipping unexpected species \"c4h8coch3-3\" while reading thermodynamics entry.\n",
      "INFO:root:Skipping unexpected species \"c4h8coch3-4\" while reading thermodynamics entry.\n",
      "INFO:root:Skipping unexpected species \"c5h9ooh1-5\" while reading thermodynamics entry.\n",
      "INFO:root:Skipping unexpected species \"c5h9o1-5\" while reading thermodynamics entry.\n",
      "INFO:root:Skipping unexpected species \"c6h11ooh1-4\" while reading thermodynamics entry.\n",
      "INFO:root:Skipping unexpected species \"c6h11o1-4\" while reading thermodynamics entry.\n",
      "INFO:root:Skipping unexpected species \"c6h11ooh1-5\" while reading thermodynamics entry.\n",
      "INFO:root:Skipping unexpected species \"c6h11o1-5\" while reading thermodynamics entry.\n",
      "INFO:root:Skipping unexpected species \"c4h71-4\" while reading thermodynamics entry.\n",
      "INFO:root:Skipping unexpected species \"ar\" while reading thermodynamics entry.\n"
     ]
    },
    {
     "name": "stdout",
     "output_type": "stream",
     "text": [
      "Wrote CTI mechanism file to 'heptanesymp159.cti'.\n",
      "Mechanism contains 160 species and 1540 reactions.\n",
      "Validating mechanism...CanteraWarning: NasaPoly2::validate: \n",
      "For species c7h15o-1, discontinuity in h/RT detected at Tmid = 1391.0\n",
      "\tValue computed using low-temperature polynomial:  21.83428060093267\n",
      "\tValue computed using high-temperature polynomial: 21.76699500201913\n",
      "\n",
      "PASSED.\n"
     ]
    }
   ],
   "source": [
    "from cantera import ck2cti\n",
    "ck2cti.main(['--input=heptanesymp159_mec.txt',\n",
    "             '--thermo=heptanesymp_therm.txt',\n",
    "             '--permissive',\n",
    "             '--output=heptanesymp159.cti'])\n"
   ]
  },
  {
   "cell_type": "markdown",
   "metadata": {},
   "source": [
    "Clearly, with 160 species and 1540 reactions, this mechanism is more detailed than any we have considered before!\n",
    "Now, let's create a 'Solution' phase in Cantera called `gas` from the Cantera mechanism file we just created."
   ]
  },
  {
   "cell_type": "code",
   "execution_count": 3,
   "metadata": {},
   "outputs": [
    {
     "name": "stdout",
     "output_type": "stream",
     "text": [
      "CanteraWarning: NasaPoly2::validate: \n",
      "For species c7h15o-1, discontinuity in h/RT detected at Tmid = 1391.0\n",
      "\tValue computed using low-temperature polynomial:  21.83428060093267\n",
      "\tValue computed using high-temperature polynomial: 21.76699500201913\n",
      "\n"
     ]
    }
   ],
   "source": [
    "gas = ct.Solution('heptanesymp159.cti')"
   ]
  },
  {
   "cell_type": "markdown",
   "metadata": {},
   "source": [
    "Let's examine some of the reactions and species in the mechanism.\n",
    "\n",
    "This will return the first 10 reactions:"
   ]
  },
  {
   "cell_type": "code",
   "execution_count": 4,
   "metadata": {},
   "outputs": [
    {
     "data": {
      "text/plain": [
       "['ch3 + h (+M) => ch4 (+M)',\n",
       " 'ch4 (+M) => ch3 + h (+M)',\n",
       " 'ch4 + h => ch3 + h2',\n",
       " 'ch3 + h2 => ch4 + h',\n",
       " 'ch4 + oh => ch3 + h2o',\n",
       " 'ch3 + h2o => ch4 + oh',\n",
       " 'ch4 + o => ch3 + oh',\n",
       " 'ch3 + oh => ch4 + o',\n",
       " 'c2h6 + ch3 => c2h5 + ch4',\n",
       " 'c2h5 + ch4 => c2h6 + ch3']"
      ]
     },
     "execution_count": 4,
     "metadata": {},
     "output_type": "execute_result"
    }
   ],
   "source": [
    "gas.reaction_equations(np.arange(10))"
   ]
  },
  {
   "cell_type": "markdown",
   "metadata": {},
   "source": [
    "And this will return a list of the chemical species names, joined by spaces:"
   ]
  },
  {
   "cell_type": "code",
   "execution_count": 5,
   "metadata": {},
   "outputs": [
    {
     "name": "stdout",
     "output_type": "stream",
     "text": [
      "n2 ch3 h ch4 h2 oh h2o o c2h6 c2h5 hco co co2 o2 h2o2 ho2 c2h4 ch3oh ch2oh ch3o ch2o c2h2 c2h3 c2h hcco ch2 ch ch2co ch2(s) pc2h4oh ch3co ch3cho c3h5-s c3h4-p c3h5-a c3h6 c3h4-a ch3chco c3h5-t c4h6 nc3h7 ic3h7 c3h8 c5h9 c4h7 c4h8-1 sc4h9 pc4h9 ch3coch3 ch3coch2 c2h5co c2h5cho c5h10-1 ch2cho c5h11-1 c5h11-2 c2h5o c2h5o2 ch3o2 ch3o2h c3h2 o2c2h4oh c2h4o2h c2h3co c2h3cho c3h5o c3h6o1-2 c3h6ooh1-2 c3h6ooh2-1 nc3h7o ic3h7o nc3h7o2 ic3h7o2 c4h7o c4h8ooh1-3o2 c4h8ooh1-3 nc4ket13 c4h8ooh1-2 c4h8o1-3 pc4h9o2 c3h3 hocho c2h3o1,2 nc3h7cho nc3h7co c3h6cho-2 ch2ch2coch3 c2h5coch2 c2h5coc2h4p nc3h7coch2 nc4h9cho nc4h9co hoch2o c6h13-1 c6h12-1 c6h11 nc7h16 c7h15-1 c7h15-2 c7h15-3 c7h15-4 c7h15o2-1 c7h15o2h-1 c7h15o2-2 c7h15o2h-2 c7h15o2-3 c7h15o2h-3 c7h14-1 c7h14-2 c7h14-3 c7h13 c7h15o2-4 c7h15o-1 c7h15o-2 c7h15o-3 c7h14ooh1-2 c7h14ooh1-3 c7h14ooh1-4 c7h14ooh2-3 c7h14ooh2-4 c7h14ooh2-5 c7h14ooh3-1 c7h14ooh3-2 c7h14ooh3-4 c7h14ooh3-5 c7h14ooh3-6 c7h14ooh4-2 c7h14ooh4-3 c7h14o1-3 c7h14o1-4 c7h14o2-4 c7h14o2-5 c7h14o3-5 c7h14ooh1-3o2 c7h14ooh2-3o2 c7h14ooh2-4o2 c7h14ooh2-5o2 c7h14ooh3-1o2 c7h14ooh3-2o2 c7h14ooh3-4o2 c7h14ooh3-5o2 c7h14ooh3-6o2 c7h14ooh4-2o2 c7h14ooh4-3o2 nc7ket13 nc7ket23 nc7ket24 nc7ket25 nc7ket31 nc7ket32 nc7ket34 nc7ket35 nc7ket36 nc7ket42 nc7ket43 nc4h9coch2 c4h7ooh1-4 c5h9ooh1-4 c4h7o1-4 c5h9o1-4\n"
     ]
    }
   ],
   "source": [
    "print(\" \".join(gas.species_names))"
   ]
  },
  {
   "cell_type": "markdown",
   "metadata": {},
   "source": [
    "Knowing what all those species names mean is a [formidable challenge](http://www.northeastern.edu/comocheng/2014/04/nsf-grant-to-identify-discrepancies/) but we are [making headway](http://www.northeastern.edu/comocheng/2015/05/uscombustionmeeting/) (and more help is welcome).\n",
    "\n",
    "For now, lets loop through all the species looking for ones with 7 carbons and 16 hydrogen atoms, which should be all the isomers of heptane."
   ]
  },
  {
   "cell_type": "code",
   "execution_count": 6,
   "metadata": {},
   "outputs": [
    {
     "name": "stdout",
     "output_type": "stream",
     "text": [
      "nc7h16\n"
     ]
    }
   ],
   "source": [
    "for species in gas.species():\n",
    "    if species.composition == {'C':7, 'H':16}:\n",
    "        print(species.name)"
   ]
  },
  {
   "cell_type": "markdown",
   "metadata": {},
   "source": [
    "There is only one!\n",
    "Based on the name beginning with 'n' let's assume it represents normal-heptane (all 7 carbons in a single chain with no branching), which is the fuel that we want to simulate. Now we need to find the index number for this species."
   ]
  },
  {
   "cell_type": "code",
   "execution_count": null,
   "metadata": {},
   "outputs": [],
   "source": [
    "i_heptane = gas.species_names.index('nc7h16')\n",
    "# alternatively, this shortcut:\n",
    "i_heptane = gas.species_index('nc7h16')\n",
    "print(\"heptane is species index {0}\".format(i_heptane))\n"
   ]
  },
  {
   "cell_type": "markdown",
   "metadata": {},
   "source": [
    "To specify the state of a system we must supply two intensive variables (temperature, pressure, density, specific entropy, specific enthalpy, specific volume) and the composition (mass or mole fractions). We will set the temperature, pressure, and mole fractions. In cantera, mole fractions are `X` and mass fractions are `Y`. We can then print some properties of our gas system by typing  `gas()`."
   ]
  },
  {
   "cell_type": "code",
   "execution_count": null,
   "metadata": {},
   "outputs": [],
   "source": [
    "gas.TPX = 1000, 10e5, 'nc7h16:1.0'\n",
    "gas()"
   ]
  },
  {
   "cell_type": "markdown",
   "metadata": {},
   "source": [
    "To find equilbrium you must specify which two intensive variables to hold constant. We'll find the equilbrium at constant Temperature and Pressure, then print the properties again."
   ]
  },
  {
   "cell_type": "code",
   "execution_count": null,
   "metadata": {},
   "outputs": [],
   "source": [
    "gas.equilibrate('TP')\n",
    "gas()"
   ]
  },
  {
   "cell_type": "markdown",
   "metadata": {},
   "source": [
    "You will recall from Thermodynamics II that a system going to equilibrium at constant T and P should minimize the specific Gibbs free energy of the system. Sure enough, it has gone down (compare the \"Gibbs function\" in the \"1 kg\" columns above.  To check that number represents what we expect (this will be returned in Cantera's default SI units, a combination of K, m<sup>3</sup>, Pa, J, kg, kmol; in this case J/kg)"
   ]
  },
  {
   "cell_type": "code",
   "execution_count": null,
   "metadata": {},
   "outputs": [],
   "source": [
    "print(gas.h - gas.T * gas.s)\n",
    "print(gas.g)"
   ]
  },
  {
   "cell_type": "markdown",
   "metadata": {},
   "source": [
    "Now lets find the equilibrium composition at 1 bar pressure and a range of temperatures between 100 and 2000 K"
   ]
  },
  {
   "cell_type": "code",
   "execution_count": null,
   "metadata": {},
   "outputs": [],
   "source": [
    "temperatures = np.arange(100,2000,20)\n",
    "# make a big array to store the results in\n",
    "equilibrium_mass_fractions = np.zeros((len(temperatures), gas.n_species))\n",
    "for i, T in enumerate(temperatures):\n",
    "    gas.TP = T, 1e5\n",
    "    gas.equilibrate('TP')\n",
    "    print(T,end=\" \")\n",
    "    equilibrium_mass_fractions[i,:] = gas.Y"
   ]
  },
  {
   "cell_type": "markdown",
   "metadata": {},
   "source": [
    "Now plot the equilibrium mass fractions as a function of temperature. With 160 lines, let's forgo the legend and instead label the biggest peaks directly."
   ]
  },
  {
   "cell_type": "code",
   "execution_count": null,
   "metadata": {
    "scrolled": true
   },
   "outputs": [],
   "source": [
    "plt.plot(temperatures,equilibrium_mass_fractions)\n",
    "plt.xlabel(\"Temperature (K)\")\n",
    "plt.ylabel(\"Equilibrium mole fraction\")\n",
    "for i, name in enumerate(gas.species_names):\n",
    "    Y = equilibrium_mass_fractions[:,i]\n",
    "    if max(Y)> 0.08:\n",
    "        peakT = temperatures[Y.argmax()]\n",
    "        peakY = max(Y)\n",
    "        plt.text(peakT,peakY, name)\n",
    "plt.show()\n"
   ]
  },
  {
   "cell_type": "markdown",
   "metadata": {},
   "source": [
    "## Question (a) \n",
    "What do you notice about the species that peaks at 100K, and the ones that peak at 2000K? Can you explain or justify this?"
   ]
  },
  {
   "cell_type": "raw",
   "metadata": {
    "collapsed": true
   },
   "source": []
  },
  {
   "cell_type": "markdown",
   "metadata": {},
   "source": [
    "To see some of the complexity hidden at low concentrations, let's plot the y axis on a logarithmic scale:"
   ]
  },
  {
   "cell_type": "code",
   "execution_count": null,
   "metadata": {},
   "outputs": [],
   "source": [
    "plt.semilogy(temperatures,equilibrium_mass_fractions)\n",
    "plt.ylim(1e-30,1)\n",
    "plt.xlabel(\"Temperature (K)\")\n",
    "plt.ylabel(\"Equilibrium mole fraction\")\n",
    "plt.show()"
   ]
  },
  {
   "cell_type": "markdown",
   "metadata": {},
   "source": [
    "If you think about how many reactions are equilibrated, it was remarkably quick!\n",
    "\n",
    "Now we'll add some air, which is mostly nitrogen and oxygen. First of all, find the names of anything with just 2 oxygen atoms or just 2 nitrogen atoms."
   ]
  },
  {
   "cell_type": "code",
   "execution_count": null,
   "metadata": {},
   "outputs": [],
   "source": [
    "for species in gas.species():\n",
    "    if species.composition == {'O':2} or species.composition == {'N':2}:\n",
    "        print(species.name)"
   ]
  },
  {
   "cell_type": "markdown",
   "metadata": {},
   "source": [
    "Now look up and store the species indices"
   ]
  },
  {
   "cell_type": "code",
   "execution_count": null,
   "metadata": {},
   "outputs": [],
   "source": [
    "i_oxygen = gas.species_names.index('o2')\n",
    "print(\"oxygen is species index {0}\".format(i_oxygen))\n",
    "i_nitrogen = gas.species_names.index('n2')\n",
    "print(\"nitrogen is species index {0}\".format(i_nitrogen))"
   ]
  },
  {
   "cell_type": "markdown",
   "metadata": {},
   "source": [
    "## Question (b)\n",
    "\n",
    "For a \"stoichiometric\" mixture of n-heptane and air (enough oxygen to reach complete combustion) how many moles of heptane and how many moles of nitrogen should you have for one mole of oxygen?  Assume air is 80% nitrogen and 20% oxygen."
   ]
  },
  {
   "cell_type": "code",
   "execution_count": null,
   "metadata": {},
   "outputs": [],
   "source": [
    "oxygen_mole = 1. # moles oxygen\n",
    "## ANSWER:\n"
   ]
  },
  {
   "cell_type": "code",
   "execution_count": null,
   "metadata": {},
   "outputs": [],
   "source": [
    "## Some checks\n",
    "assert nitrogen_mole / oxygen_mole == 4, \"Assume air is 80% nitrogen and 20% oxygen\"\n",
    "assert oxygen_mole / heptane_mole == 3+1+3//5*3+8-5//3, \"C7H16 + ?? O2 => 8 H2O + 7 CO2\""
   ]
  },
  {
   "cell_type": "markdown",
   "metadata": {},
   "source": [
    "Now use those to make a string for the '`X`' when we set `gas.TPX`. Although we call it a mole fraction, they don't need to add up to one: Cantera will normalize it, preserving the ratios.  Then print it, use it, and check it."
   ]
  },
  {
   "cell_type": "code",
   "execution_count": null,
   "metadata": {},
   "outputs": [],
   "source": [
    "X_string = 'nc7h16:{0},o2:{1},n2:{2}'.format(heptane_mole, oxygen_mole, nitrogen_mole)\n",
    "print(\"The 'X' will be set to {0!r}\".format(X_string))\n",
    "gas.TPX = 1000, 10e5, X_string\n",
    "gas()\n",
    "assert round(gas.concentrations[i_oxygen] / gas.concentrations[i_heptane], 2) == 11"
   ]
  },
  {
   "cell_type": "markdown",
   "metadata": {},
   "source": [
    "## Question (c)\n",
    "We can do an equilibrium analysis like before, but before you do,\n",
    "starting with a stoichiometric mixture of fuel and air\n",
    "what do you expect the equilibrium composition to mostly consist of?\n",
    "(Imagine all reactions are fast with no barriers)"
   ]
  },
  {
   "cell_type": "raw",
   "metadata": {
    "collapsed": true
   },
   "source": []
  },
  {
   "cell_type": "code",
   "execution_count": null,
   "metadata": {},
   "outputs": [],
   "source": [
    "temperatures = np.arange(100,2000,20)\n",
    "# make a big array to store the results in\n",
    "equilibrium_mass_fractions = np.zeros((len(temperatures), gas.n_species))\n",
    "for i, T in enumerate(temperatures):\n",
    "    gas.TP = T, 1e5\n",
    "    gas.equilibrate('TP')\n",
    "    print(T, end=\" \")\n",
    "    equilibrium_mass_fractions[i,:] = gas.Y\n",
    "plt.plot(temperatures,equilibrium_mass_fractions)\n",
    "for i, name in enumerate(gas.species_names):\n",
    "    Y = equilibrium_mass_fractions[:,i]\n",
    "    if max(Y)> 0.08:\n",
    "        peakT = temperatures[Y.argmax()]\n",
    "        peakY = max(Y)\n",
    "        plt.text(peakT,peakY, name)\n",
    "plt.show()\n"
   ]
  },
  {
   "cell_type": "markdown",
   "metadata": {},
   "source": [
    "## Kinetics\n",
    "Now we are done with equilbria, let's calculate some kinetics!\n",
    "\n",
    "Cantera can do complex networks of reactors with valves, flow controllers, etc.\n",
    "but we will make a simple \"reactor network\" with just one constant volume ideal gas batch reactor."
   ]
  },
  {
   "cell_type": "code",
   "execution_count": null,
   "metadata": {},
   "outputs": [],
   "source": [
    "gas.TPX = 800, 10e5, X_string\n",
    "\n",
    "reactor = ct.IdealGasReactor(gas)\n",
    "reactor_network = ct.ReactorNet([reactor])\n",
    "\n",
    "start_time = 0.0  #starting time\n",
    "end_time = 4e-3 # seconds\n",
    "n_steps = 251\n",
    "times = np.linspace(start_time, end_time, n_steps)\n",
    "concentrations = np.zeros((n_steps, gas.n_species))\n",
    "pressures = np.zeros(n_steps)\n",
    "temperatures = np.zeros(n_steps)\n",
    "\n",
    "print_data = True\n",
    "if print_data:\n",
    "    #this just gives headings\n",
    "    print('{0:>10s} {1:>10s} {2:>10s} {3:>14s}'.format(\n",
    "            't [s]','T [K]','P [Pa]','u [J/kg]')) \n",
    "\n",
    "for n, time in enumerate(times):\n",
    "    if time > 0:\n",
    "        reactor_network.advance(time)\n",
    "    temperatures[n] = reactor.T\n",
    "    pressures[n] = reactor.thermo.P\n",
    "    concentrations[n,:] = reactor.thermo.concentrations\n",
    "    if print_data:\n",
    "        print('{0:10.3e} {1:10.3f} {2:10.3f} {3:14.6e}'.format(\n",
    "                 reactor_network.time, reactor.T, reactor.thermo.P, reactor.thermo.u))\n"
   ]
  },
  {
   "cell_type": "markdown",
   "metadata": {},
   "source": [
    "Now let's plot some graphs to see how things look"
   ]
  },
  {
   "cell_type": "code",
   "execution_count": null,
   "metadata": {},
   "outputs": [],
   "source": [
    "plt.plot(times*1e3, concentrations[:,i_heptane])\n",
    "plt.ylabel(\"Heptane concentration (kmol/m3)\")\n",
    "plt.xlabel(\"Time (ms)\")\n",
    "plt.ylim(0,)\n",
    "plt.show()\n",
    "plt.plot(times*1e3, pressures/1e5)\n",
    "plt.xlabel(\"Time (ms)\")\n",
    "plt.ylabel(\"Pressure (bar)\")\n",
    "plt.show()\n",
    "plt.plot(times*1e3, temperatures)\n",
    "plt.xlabel(\"Time (ms)\")\n",
    "plt.ylabel(\"Temperature (K)\")\n",
    "plt.show()"
   ]
  },
  {
   "cell_type": "markdown",
   "metadata": {},
   "source": [
    "Although the timescale is milliseconds instead of hours, that looks remarkably like the thermal runaway reaction that caused the T2 laboratory explosion that we studied last lecture. This time, however, it's not just a thermal runaway but a chemical runaway - it's the gradual accumulation of reactive radical species like `OH` that is auto-catalytic.\n",
    "\n",
    "Let's look at some of the other species:"
   ]
  },
  {
   "cell_type": "code",
   "execution_count": null,
   "metadata": {},
   "outputs": [],
   "source": [
    "# skip the zeroth species which is nitrogen\n",
    "plt.plot(times*1e3, concentrations[:,1:])\n",
    "plt.ylim(0,)\n",
    "plt.ylabel(\"Concentration\")\n",
    "plt.xlabel(\"Time (ms)\")\n",
    "for i, name in enumerate(gas.species_names):\n",
    "    if i==0: continue\n",
    "    concentration = concentrations[:,i]\n",
    "    peak_concentration = max(concentration)\n",
    "    if peak_concentration > 0.001:\n",
    "        peak_time = times[concentration.argmax()]\n",
    "        plt.text(peak_time*1e3, peak_concentration, name)\n",
    "plt.show()\n"
   ]
  },
  {
   "cell_type": "markdown",
   "metadata": {},
   "source": [
    "Let's zoom in on the y axis by making it logarithmic:"
   ]
  },
  {
   "cell_type": "code",
   "execution_count": null,
   "metadata": {},
   "outputs": [],
   "source": [
    "plt.semilogy(times*1e3, concentrations)\n",
    "plt.ylim(1e-15,1)\n",
    "plt.ylabel(\"Concentration\")\n",
    "plt.xlabel(\"Time (ms)\")\n",
    "plt.show()"
   ]
  },
  {
   "cell_type": "markdown",
   "metadata": {},
   "source": [
    "What a mess! Let's zoom in a little and see if we can pick out any significant intermediates"
   ]
  },
  {
   "cell_type": "code",
   "execution_count": null,
   "metadata": {},
   "outputs": [],
   "source": [
    "plt.semilogy(times*1e3, concentrations)\n",
    "plt.ylim(1e-4,1)\n",
    "\n",
    "# Add some labels\n",
    "for t in [1.5, 3]:\n",
    "    i = (times*1e3>t).nonzero()[0][0]\n",
    "    time = times[i]*1e3\n",
    "    for j, name in enumerate(gas.species_names):\n",
    "        concentration = concentrations[i,j]\n",
    "        if concentration > 1e-4:\n",
    "            plt.text(time, concentration, name)\n",
    "plt.ylabel(\"Concentration\")\n",
    "plt.xlabel(\"Time (ms)\")\n",
    "plt.show()"
   ]
  },
  {
   "cell_type": "markdown",
   "metadata": {},
   "source": [
    "Not really!  We would have to do a flux analysis and [reaction path diagram](http://www.cantera.org/docs/sphinx/html/cython/examples/kinetics_reaction_path.html) to see what is going on. \n",
    "\n",
    "## Defining ignition delay time.\n",
    "We want to identify when the ignition occurs, so that we could compare our simulation with an experiment.\n",
    "Some experiments measure pressure rise; some monitor the concentration of an intermediate like `OH` via laser absorption; but other studies monitor the luminescence of excited `OH*` decaying to ground state `OH` (which it does by emitting a photon). This process is proportional to the rate of formation (not concentration) of `OH*`, which is predominantly made by reaction of `CH` with `O2`, so it is pretty closely proportional to the product `[CH][O2]`, i.e. \"brightest flash of light\" is propontional to “peak `OH*` emission” which can be modeled as “peak in the product of `[CH]` and `[O2]`”.  Likewise photoemission from creation of excited `CH*` can be modeled reasonably as the product `[C2H][O]`. When modeling an experiment it's important to know precisely what the experimenter measurend and how they defined their derived parameters. For now we'll look for the peak in `OH*` emission:"
   ]
  },
  {
   "cell_type": "code",
   "execution_count": null,
   "metadata": {},
   "outputs": [],
   "source": [
    "i_ch = gas.species_index('ch')\n",
    "i_o2 = gas.species_index('o2')\n",
    "excited_oh_generation = concentrations[:,i_ch] * concentrations[:,i_o2]\n",
    "plt.plot(times*1e3, excited_oh_generation)\n",
    "plt.xlabel(\"Time (ms)\")\n",
    "plt.ylabel(\"Excited OH* emission (arbitrary units)\")\n",
    "plt.show()\n",
    "ignition_time = times[excited_oh_generation.argmax()]\n",
    "print(\"Ignition delay time is {0} ms\".format(ignition_time * 1e3))"
   ]
  },
  {
   "cell_type": "markdown",
   "metadata": {
    "collapsed": true
   },
   "source": [
    "Now let's put it all together, into a function that takes temperature, pressure, and stoichiometry, and predicts ignition delay time for n-heptane. It's a bit different from before - now we let the ODE solver choose the array of times, which means we don't know how long it will be when we begin, so we have to use lists (which can grow as we add to them) and convert to arrays when we've finished. "
   ]
  },
  {
   "cell_type": "code",
   "execution_count": null,
   "metadata": {},
   "outputs": [],
   "source": [
    "def get_ignition_delay(temperature, pressure = 10.,\n",
    "                       stoichiometry = 1.0, plot = False):\n",
    "    \"\"\"\n",
    "    Get the ignition delay time in miliseconds, at the specified\n",
    "    temperature (K), pressure (bar), and stoichiometry \n",
    "    (stoichiometric = 1.0, fuel-rich > 1.0, oxygen-rich < 1.0).\n",
    "    Default pressure is 10.0 bar, default stoichoimetry is 1.0.\n",
    "    If plot=True then it draws a plot (default is False).\n",
    "    \"\"\"\n",
    "    oxygen_mole = 1. \n",
    "    nitrogen_mole = 4*oxygen_mole\n",
    "    heptane_mole = stoichiometry/11\n",
    "    X_string = 'nc7h16:{0},o2:{1},n2:{2}'.format(heptane_mole, oxygen_mole, nitrogen_mole)\n",
    "\n",
    "    gas.TPX = temperature, pressure*1e5, X_string\n",
    "    reactor = ct.IdealGasReactor(gas)\n",
    "    reactor_network = ct.ReactorNet([reactor])\n",
    "\n",
    "    time = 0.0\n",
    "    end_time = 10e-3 \n",
    "    \n",
    "    # Use lists instead of arrays, so they can be any length\n",
    "    times = []\n",
    "    concentrations = []\n",
    "    pressures = []\n",
    "    temperatures = []\n",
    "    \n",
    "    print_data = True\n",
    "    while time < end_time:\n",
    "        time = reactor_network.time\n",
    "        times.append(time)\n",
    "        temperatures.append(reactor.T)\n",
    "        pressures.append(reactor.thermo.P)\n",
    "        concentrations.append(reactor.thermo.concentrations)\n",
    "        # take a timestep towards the end_time.\n",
    "        # the size of the step will be determined by the ODE solver\n",
    "        # depending on how quickly things are changing.\n",
    "        reactor_network.step(end_time)\n",
    "    \n",
    "    print(\"Reached end time {0:.2f} ms in {1} steps\".format(times[-1]*1e3, len(times)))\n",
    "    # convert the lists into arrays\n",
    "    concentrations = np.array(concentrations)\n",
    "    times = np.array(times)\n",
    "    pressures = np.array(pressures)\n",
    "    temperatures = np.array(temperatures)\n",
    "\n",
    "    if plot:\n",
    "        plt.subplot(2,1,1)\n",
    "        plt.plot(times*1e3, pressures/1e5)\n",
    "        plt.ylabel(\"Pressure (bar)\", color='b')\n",
    "        ax2 = plt.gca().twinx()\n",
    "        ax2.set_ylabel('Temperature (K)', color='r')\n",
    "        ax2.plot(times*1e3, temperatures, 'r')\n",
    "    i_ch = gas.species_index('ch')\n",
    "    i_o2 = gas.species_index('o2')\n",
    "    excited_oh_generation = concentrations[:,i_o2] * concentrations[:,i_ch]\n",
    "    if plot:\n",
    "        plt.subplot(2,1,2)\n",
    "        plt.plot(times*1e3, excited_oh_generation, 'g')\n",
    "        plt.ylabel(\"OH* emission\")\n",
    "        plt.ylim(0,max(1e-8,1.1*max(excited_oh_generation)))\n",
    "        plt.xlabel(\"Time (ms)\")\n",
    "        plt.tight_layout()\n",
    "        plt.show()\n",
    "    step_with_highest_oh_gen = excited_oh_generation.argmax()\n",
    "    if step_with_highest_oh_gen > 1 and excited_oh_generation.max()>1e-20:\n",
    "        ignition_time_ms = 1e3 * times[step_with_highest_oh_gen]\n",
    "        print(\"At {0} K {1} bar, ignition delay time is {2} ms\".format(temperature, pressure, ignition_time_ms))\n",
    "        return ignition_time_ms\n",
    "    else:\n",
    "        print(\"At {0} K {1} bar, no ignition detected\".format(temperature, pressure))\n",
    "        return np.infty\n"
   ]
  },
  {
   "cell_type": "markdown",
   "metadata": {},
   "source": [
    "Let's test it at 1000 K, 10 bar."
   ]
  },
  {
   "cell_type": "code",
   "execution_count": null,
   "metadata": {},
   "outputs": [],
   "source": [
    "get_ignition_delay(1000, 10, plot=True)"
   ]
  },
  {
   "cell_type": "markdown",
   "metadata": {},
   "source": [
    "Now let's repeat it at a range of temperatures and pressures, and plot all the delay times on one graph"
   ]
  },
  {
   "cell_type": "code",
   "execution_count": null,
   "metadata": {},
   "outputs": [],
   "source": [
    "temperatures = np.linspace(1000,1500.,25)\n",
    "ignition_delay_times = np.zeros_like(temperatures)\n",
    "for P in [10,50]:\n",
    "    for i,T in enumerate(temperatures):\n",
    "        ignition_delay_times[i] = get_ignition_delay(T, P)\n",
    "    plt.semilogy(1000./temperatures, ignition_delay_times, 'o-', label='{0} bar'.format(P))\n",
    "\n",
    "plt.legend(loc='best')\n",
    "plt.xlabel(\"1000K / temperature\")\n",
    "plt.ylabel(\"Ignition delay time (ms)\")\n",
    "plt.ylim(1e-2,)\n",
    "plt.show()"
   ]
  },
  {
   "cell_type": "markdown",
   "metadata": {},
   "source": [
    "## Question (d)\n",
    "Explain why this look as you would expect from Arrhenius behaviour."
   ]
  },
  {
   "cell_type": "raw",
   "metadata": {},
   "source": []
  },
  {
   "cell_type": "markdown",
   "metadata": {},
   "source": [
    "## Question (e)\n",
    "Repeat the analysis but going down to 650K (i.e. cover the range 650-1500K).\n",
    "Describe and try to explain what you find."
   ]
  },
  {
   "cell_type": "code",
   "execution_count": null,
   "metadata": {},
   "outputs": [],
   "source": [
    "temperatures = np.linspace(650,1500.,25)\n",
    "ignition_delay_times = np.zeros_like(temperatures)\n",
    "for P in [10,50]:\n",
    "    for i,T in enumerate(temperatures):\n",
    "        ignition_delay_times[i] = get_ignition_delay(T, P)\n",
    "    plt.semilogy(1000./temperatures, ignition_delay_times, 'o-', label='{0} bar'.format(P))\n",
    "\n",
    "plt.legend(loc='best')\n",
    "plt.xlabel(\"1000K / temperature\")\n",
    "plt.ylabel(\"Ignition delay time (ms)\")\n",
    "plt.ylim(1e-2,)\n",
    "plt.show()"
   ]
  },
  {
   "cell_type": "raw",
   "metadata": {
    "collapsed": true
   },
   "source": []
  }
 ],
 "metadata": {
  "anaconda-cloud": {},
  "kernelspec": {
   "display_name": "cantera_env",
   "language": "python",
   "name": "cantera_env"
  },
  "language_info": {
   "codemirror_mode": {
    "name": "ipython",
    "version": 3
   },
   "file_extension": ".py",
   "mimetype": "text/x-python",
   "name": "python",
   "nbconvert_exporter": "python",
   "pygments_lexer": "ipython3",
   "version": "3.8.5"
  }
 },
 "nbformat": 4,
 "nbformat_minor": 1
}
